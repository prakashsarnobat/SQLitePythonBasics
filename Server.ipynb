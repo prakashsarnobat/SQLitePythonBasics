{
 "cells": [
  {
   "cell_type": "code",
   "execution_count": null,
   "id": "f874fdf1",
   "metadata": {},
   "outputs": [
    {
     "name": "stderr",
     "output_type": "stream",
     "text": [
      "Bottle v0.12.25 server starting up (using WSGIRefServer())...\n",
      "Listening on http://localhost:8080/\n",
      "Hit Ctrl-C to quit.\n",
      "\n",
      "127.0.0.1 - - [02/Jun/2024 22:16:38] \"GET /hello/Teddy HTTP/1.1\" 404 742\n",
      "127.0.0.1 - - [02/Jun/2024 22:16:40] \"GET /hello/Teddy HTTP/1.1\" 404 742\n"
     ]
    },
    {
     "name": "stdout",
     "output_type": "stream",
     "text": [
      "Opened database successfully\n",
      "Query is  SELECT id, name, address, salary from COMPANY WHERE NAME='Teddy' \n",
      "ID =  3\n",
      "NAME =  Teddy\n",
      "ADDRESS =  Norway\n",
      "SALARY =  20000.0 \n",
      "\n"
     ]
    },
    {
     "name": "stderr",
     "output_type": "stream",
     "text": [
      "127.0.0.1 - - [02/Jun/2024 22:17:00] \"GET /greet/Teddy HTTP/1.1\" 200 25\n"
     ]
    },
    {
     "name": "stdout",
     "output_type": "stream",
     "text": [
      "Opened database successfully\n",
      "Query is  SELECT id, name, address, salary from COMPANY WHERE NAME='Teddy' \n",
      "ID =  3\n",
      "NAME =  Teddy\n",
      "ADDRESS =  Norway\n",
      "SALARY =  20000.0 \n",
      "\n"
     ]
    },
    {
     "name": "stderr",
     "output_type": "stream",
     "text": [
      "127.0.0.1 - - [02/Jun/2024 22:17:02] \"GET /greet/Teddy HTTP/1.1\" 200 25\n"
     ]
    },
    {
     "name": "stdout",
     "output_type": "stream",
     "text": [
      "Opened database successfully\n",
      "Query is  SELECT id, name, address, salary from COMPANY WHERE NAME='Teddy' \n",
      "ID =  3\n",
      "NAME =  Teddy\n",
      "ADDRESS =  Norway\n",
      "SALARY =  20000.0 \n",
      "\n"
     ]
    },
    {
     "name": "stderr",
     "output_type": "stream",
     "text": [
      "127.0.0.1 - - [02/Jun/2024 22:18:38] \"GET /greet/Teddy HTTP/1.1\" 200 25\n"
     ]
    },
    {
     "name": "stdout",
     "output_type": "stream",
     "text": [
      "Opened database successfully\n",
      "Query is  SELECT id, name, address, salary from COMPANY WHERE NAME='Teddy' \n",
      "ID =  3\n",
      "NAME =  Teddy\n",
      "ADDRESS =  Norway\n",
      "SALARY =  20000.0 \n",
      "\n"
     ]
    },
    {
     "name": "stderr",
     "output_type": "stream",
     "text": [
      "127.0.0.1 - - [02/Jun/2024 22:19:22] \"GET /greet/Teddy HTTP/1.1\" 200 25\n"
     ]
    },
    {
     "name": "stdout",
     "output_type": "stream",
     "text": [
      "Opened database successfully\n",
      "Query is  SELECT id, name, address, salary from COMPANY WHERE NAME='Teddy' \n",
      "ID =  3\n",
      "NAME =  Teddy\n",
      "ADDRESS =  Norway\n",
      "SALARY =  20000.0 \n",
      "\n"
     ]
    },
    {
     "name": "stderr",
     "output_type": "stream",
     "text": [
      "127.0.0.1 - - [02/Jun/2024 22:59:57] \"GET /greet/Teddy HTTP/1.1\" 200 25\n"
     ]
    },
    {
     "name": "stdout",
     "output_type": "stream",
     "text": [
      "Opened database successfully\n",
      "Query is  SELECT id, name, address, salary from COMPANY WHERE NAME='Teddy' \n",
      "ID =  3\n",
      "NAME =  Teddy\n",
      "ADDRESS =  Sweden\n",
      "SALARY =  20000.0 \n",
      "\n"
     ]
    },
    {
     "name": "stderr",
     "output_type": "stream",
     "text": [
      "127.0.0.1 - - [02/Jun/2024 23:00:21] \"GET /greet/Teddy HTTP/1.1\" 200 25\n"
     ]
    },
    {
     "name": "stdout",
     "output_type": "stream",
     "text": [
      "Opened database successfully\n",
      "Query is  SELECT id, name, address, salary from COMPANY WHERE NAME='Pepe' \n",
      "ID =  3\n",
      "NAME =  Pepe\n",
      "ADDRESS =  Portugal\n",
      "SALARY =  20000.0 \n",
      "\n"
     ]
    },
    {
     "name": "stderr",
     "output_type": "stream",
     "text": [
      "127.0.0.1 - - [02/Jun/2024 23:01:36] \"GET /greet/Pepe HTTP/1.1\" 200 26\n"
     ]
    }
   ],
   "source": [
    "# tutorial 2024-06-02 https://www.tutorialspoint.com/sqlite/sqlite_python.htm\n",
    "\n",
    "import sqlite3\n",
    "\n",
    "from bottle import route, run, template\n",
    "\n",
    "@route('/greet/<name>')\n",
    "def index(name):\n",
    "    \n",
    "    conn = sqlite3.connect('test.db')\n",
    "    print (\"Opened database successfully\");\n",
    "\n",
    "    query = \"SELECT id, name, address, salary from COMPANY WHERE NAME='\" + name + \"' \"\n",
    "    cursor = conn.execute(query)\n",
    "    print(\"Query is \", query)\n",
    "    addr = 'unknown'\n",
    "    for row in cursor:\n",
    "       print (\"ID = \", row[0])\n",
    "       print (\"NAME = \", row[1])\n",
    "       print (\"ADDRESS = \", row[2])\n",
    "       print (\"SALARY = \", row[3], \"\\n\")\n",
    "       addr = row[2]\n",
    "\n",
    "    \n",
    "    return template('<b>Hello {{name}} {{addr}}</b>', name=name, addr=addr)\n",
    "#     return template('<b>Hello {{name}} </b>', name=name)\n",
    "run(host='localhost', port=8080)"
   ]
  },
  {
   "cell_type": "code",
   "execution_count": null,
   "id": "52207ae6",
   "metadata": {},
   "outputs": [],
   "source": []
  },
  {
   "cell_type": "code",
   "execution_count": null,
   "id": "0617efb6",
   "metadata": {},
   "outputs": [],
   "source": [
    "import sqlite3\n",
    "\n",
    "conn = sqlite3.connect('test.db')\n",
    "\n",
    "print(\"Opened database successfully\");"
   ]
  },
  {
   "cell_type": "code",
   "execution_count": null,
   "id": "d2f2e479",
   "metadata": {},
   "outputs": [],
   "source": [
    "conn = sqlite3.connect('test.db')\n",
    "print (\"Opened database successfully\");\n",
    "\n",
    "conn.execute('''CREATE TABLE COMPANY\n",
    "         (ID INT PRIMARY KEY     NOT NULL,\n",
    "         NAME           TEXT    NOT NULL,\n",
    "         AGE            INT     NOT NULL,\n",
    "         ADDRESS        CHAR(50),\n",
    "         SALARY         REAL);''')\n",
    "print (\"Table created successfully\");\n",
    "\n",
    "conn.close()"
   ]
  },
  {
   "cell_type": "code",
   "execution_count": null,
   "id": "bda46606",
   "metadata": {},
   "outputs": [],
   "source": [
    "conn = sqlite3.connect('test.db')\n",
    "print (\"Opened database successfully\");\n",
    "\n",
    "conn.execute(\"INSERT INTO COMPANY (ID,NAME,AGE,ADDRESS,SALARY) \\\n",
    "      VALUES (1, 'Paul', 32, 'California', 20000.00 )\");\n",
    "\n",
    "conn.execute(\"INSERT INTO COMPANY (ID,NAME,AGE,ADDRESS,SALARY) \\\n",
    "      VALUES (2, 'Allen', 25, 'Texas', 15000.00 )\");\n",
    "\n",
    "conn.execute(\"INSERT INTO COMPANY (ID,NAME,AGE,ADDRESS,SALARY) \\\n",
    "      VALUES (3, 'Teddy', 23, 'Norway', 20000.00 )\");\n",
    "\n",
    "conn.execute(\"INSERT INTO COMPANY (ID,NAME,AGE,ADDRESS,SALARY) \\\n",
    "      VALUES (4, 'Mark', 25, 'Rich-Mond ', 65000.00 )\");\n",
    "\n",
    "conn.commit()\n",
    "print (\"Records created successfully\");\n",
    "conn.close()"
   ]
  },
  {
   "cell_type": "code",
   "execution_count": null,
   "id": "46ae927b",
   "metadata": {},
   "outputs": [],
   "source": [
    "conn = sqlite3.connect('test.db')\n",
    "print (\"Opened database successfully\");\n",
    "\n",
    "cursor = conn.execute(\"SELECT id, name, address, salary from COMPANY WHERE NAME='Paul' \")\n",
    "for row in cursor:\n",
    "   print (\"ID = \", row[0])\n",
    "   print (\"NAME = \", row[1])\n",
    "   print (\"ADDRESS = \", row[2])\n",
    "   print (\"SALARY = \", row[3], \"\\n\")\n",
    "\n",
    "print (\"Operation done successfully\");\n",
    "conn.close()"
   ]
  },
  {
   "cell_type": "code",
   "execution_count": null,
   "id": "38230610",
   "metadata": {},
   "outputs": [],
   "source": []
  }
 ],
 "metadata": {
  "kernelspec": {
   "display_name": "Python 3 (ipykernel)",
   "language": "python",
   "name": "python3"
  },
  "language_info": {
   "codemirror_mode": {
    "name": "ipython",
    "version": 3
   },
   "file_extension": ".py",
   "mimetype": "text/x-python",
   "name": "python",
   "nbconvert_exporter": "python",
   "pygments_lexer": "ipython3",
   "version": "3.9.13"
  }
 },
 "nbformat": 4,
 "nbformat_minor": 5
}
